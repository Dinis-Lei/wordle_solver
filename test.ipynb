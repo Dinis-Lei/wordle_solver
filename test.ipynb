{
 "cells": [
  {
   "cell_type": "code",
   "execution_count": 1,
   "metadata": {},
   "outputs": [],
   "source": [
    "import pandas as pd\n",
    "import numpy as np"
   ]
  },
  {
   "cell_type": "code",
   "execution_count": 2,
   "metadata": {},
   "outputs": [
    {
     "data": {
      "text/html": [
       "<div>\n",
       "<style scoped>\n",
       "    .dataframe tbody tr th:only-of-type {\n",
       "        vertical-align: middle;\n",
       "    }\n",
       "\n",
       "    .dataframe tbody tr th {\n",
       "        vertical-align: top;\n",
       "    }\n",
       "\n",
       "    .dataframe thead th {\n",
       "        text-align: right;\n",
       "    }\n",
       "</style>\n",
       "<table border=\"1\" class=\"dataframe\">\n",
       "  <thead>\n",
       "    <tr style=\"text-align: right;\">\n",
       "      <th></th>\n",
       "      <th>word</th>\n",
       "      <th>l0</th>\n",
       "      <th>l1</th>\n",
       "      <th>l2</th>\n",
       "      <th>l3</th>\n",
       "      <th>l4</th>\n",
       "      <th>letters</th>\n",
       "      <th>entropy</th>\n",
       "    </tr>\n",
       "  </thead>\n",
       "  <tbody>\n",
       "    <tr>\n",
       "      <th>0</th>\n",
       "      <td>aahed</td>\n",
       "      <td>a</td>\n",
       "      <td>a</td>\n",
       "      <td>h</td>\n",
       "      <td>e</td>\n",
       "      <td>d</td>\n",
       "      <td>{'e', 'a', 'd', 'h'}</td>\n",
       "      <td>0.003732</td>\n",
       "    </tr>\n",
       "    <tr>\n",
       "      <th>1</th>\n",
       "      <td>aalii</td>\n",
       "      <td>a</td>\n",
       "      <td>a</td>\n",
       "      <td>l</td>\n",
       "      <td>i</td>\n",
       "      <td>i</td>\n",
       "      <td>{'i', 'l', 'a'}</td>\n",
       "      <td>0.003732</td>\n",
       "    </tr>\n",
       "    <tr>\n",
       "      <th>2</th>\n",
       "      <td>aapas</td>\n",
       "      <td>a</td>\n",
       "      <td>a</td>\n",
       "      <td>p</td>\n",
       "      <td>a</td>\n",
       "      <td>s</td>\n",
       "      <td>{'s', 'a', 'p'}</td>\n",
       "      <td>0.003732</td>\n",
       "    </tr>\n",
       "    <tr>\n",
       "      <th>3</th>\n",
       "      <td>aargh</td>\n",
       "      <td>a</td>\n",
       "      <td>a</td>\n",
       "      <td>r</td>\n",
       "      <td>g</td>\n",
       "      <td>h</td>\n",
       "      <td>{'g', 'a', 'h', 'r'}</td>\n",
       "      <td>0.004530</td>\n",
       "    </tr>\n",
       "    <tr>\n",
       "      <th>4</th>\n",
       "      <td>aarti</td>\n",
       "      <td>a</td>\n",
       "      <td>a</td>\n",
       "      <td>r</td>\n",
       "      <td>t</td>\n",
       "      <td>i</td>\n",
       "      <td>{'i', 't', 'a', 'r'}</td>\n",
       "      <td>0.004530</td>\n",
       "    </tr>\n",
       "  </tbody>\n",
       "</table>\n",
       "</div>"
      ],
      "text/plain": [
       "    word l0 l1 l2 l3 l4               letters   entropy\n",
       "0  aahed  a  a  h  e  d  {'e', 'a', 'd', 'h'}  0.003732\n",
       "1  aalii  a  a  l  i  i       {'i', 'l', 'a'}  0.003732\n",
       "2  aapas  a  a  p  a  s       {'s', 'a', 'p'}  0.003732\n",
       "3  aargh  a  a  r  g  h  {'g', 'a', 'h', 'r'}  0.004530\n",
       "4  aarti  a  a  r  t  i  {'i', 't', 'a', 'r'}  0.004530"
      ]
     },
     "execution_count": 2,
     "metadata": {},
     "output_type": "execute_result"
    }
   ],
   "source": [
    "df = pd.read_csv('entropy0.csv')\n",
    "df.head()"
   ]
  },
  {
   "cell_type": "code",
   "execution_count": 14,
   "metadata": {},
   "outputs": [],
   "source": [
    "word = \"hello\"\n",
    "pattern = \"x-xxo\"\n",
    "\n",
    "o_conditions = [df[f'l{i}'] == word[i] for i in range(5) if pattern[i] == 'o']\n",
    "x_conditions = [word[i] not in df['letters'] for i in range(5) if pattern[i] == 'x']\n",
    "other_conditions = [(word[i] in df['letters']) & (df[f'l{i}'] != word[i]) for i in range(5) if pattern[i] not in ['o', 'x']]"
   ]
  },
  {
   "cell_type": "code",
   "execution_count": 15,
   "metadata": {},
   "outputs": [
    {
     "data": {
      "text/plain": [
       "[True,\n",
       " True,\n",
       " True,\n",
       " True,\n",
       " 0        False\n",
       " 1        False\n",
       " 2        False\n",
       " 3        False\n",
       " 4        False\n",
       "          ...  \n",
       " 14850    False\n",
       " 14851    False\n",
       " 14852    False\n",
       " 14853    False\n",
       " 14854    False\n",
       " Name: l4, Length: 14855, dtype: bool]"
      ]
     },
     "execution_count": 15,
     "metadata": {},
     "output_type": "execute_result"
    }
   ],
   "source": [
    "o_conditions"
   ]
  },
  {
   "cell_type": "code",
   "execution_count": 13,
   "metadata": {},
   "outputs": [
    {
     "data": {
      "text/plain": [
       "[True, True, True]"
      ]
     },
     "execution_count": 13,
     "metadata": {},
     "output_type": "execute_result"
    }
   ],
   "source": [
    "x_conditions"
   ]
  },
  {
   "cell_type": "code",
   "execution_count": 10,
   "metadata": {},
   "outputs": [
    {
     "data": {
      "text/plain": [
       "[0        False\n",
       " 1        False\n",
       " 2        False\n",
       " 3        False\n",
       " 4        False\n",
       "          ...  \n",
       " 14850    False\n",
       " 14851    False\n",
       " 14852    False\n",
       " 14853    False\n",
       " 14854    False\n",
       " Name: l1, Length: 14855, dtype: bool]"
      ]
     },
     "execution_count": 10,
     "metadata": {},
     "output_type": "execute_result"
    }
   ],
   "source": [
    "other_conditions"
   ]
  },
  {
   "cell_type": "code",
   "execution_count": 35,
   "metadata": {},
   "outputs": [
    {
     "data": {
      "text/html": [
       "<div>\n",
       "<style scoped>\n",
       "    .dataframe tbody tr th:only-of-type {\n",
       "        vertical-align: middle;\n",
       "    }\n",
       "\n",
       "    .dataframe tbody tr th {\n",
       "        vertical-align: top;\n",
       "    }\n",
       "\n",
       "    .dataframe thead th {\n",
       "        text-align: right;\n",
       "    }\n",
       "</style>\n",
       "<table border=\"1\" class=\"dataframe\">\n",
       "  <thead>\n",
       "    <tr style=\"text-align: right;\">\n",
       "      <th></th>\n",
       "      <th>word</th>\n",
       "      <th>l0</th>\n",
       "      <th>l1</th>\n",
       "      <th>l2</th>\n",
       "      <th>l3</th>\n",
       "      <th>l4</th>\n",
       "      <th>letters</th>\n",
       "      <th>entropy</th>\n",
       "    </tr>\n",
       "  </thead>\n",
       "  <tbody>\n",
       "    <tr>\n",
       "      <th>0</th>\n",
       "      <td>aahed</td>\n",
       "      <td>a</td>\n",
       "      <td>a</td>\n",
       "      <td>h</td>\n",
       "      <td>e</td>\n",
       "      <td>d</td>\n",
       "      <td>{'e', 'a', 'd', 'h'}</td>\n",
       "      <td>0.003732</td>\n",
       "    </tr>\n",
       "    <tr>\n",
       "      <th>1</th>\n",
       "      <td>aalii</td>\n",
       "      <td>a</td>\n",
       "      <td>a</td>\n",
       "      <td>l</td>\n",
       "      <td>i</td>\n",
       "      <td>i</td>\n",
       "      <td>{'i', 'l', 'a'}</td>\n",
       "      <td>0.003732</td>\n",
       "    </tr>\n",
       "    <tr>\n",
       "      <th>2</th>\n",
       "      <td>aapas</td>\n",
       "      <td>a</td>\n",
       "      <td>a</td>\n",
       "      <td>p</td>\n",
       "      <td>a</td>\n",
       "      <td>s</td>\n",
       "      <td>{'s', 'a', 'p'}</td>\n",
       "      <td>0.003732</td>\n",
       "    </tr>\n",
       "    <tr>\n",
       "      <th>3</th>\n",
       "      <td>aargh</td>\n",
       "      <td>a</td>\n",
       "      <td>a</td>\n",
       "      <td>r</td>\n",
       "      <td>g</td>\n",
       "      <td>h</td>\n",
       "      <td>{'g', 'a', 'h', 'r'}</td>\n",
       "      <td>0.004530</td>\n",
       "    </tr>\n",
       "    <tr>\n",
       "      <th>4</th>\n",
       "      <td>aarti</td>\n",
       "      <td>a</td>\n",
       "      <td>a</td>\n",
       "      <td>r</td>\n",
       "      <td>t</td>\n",
       "      <td>i</td>\n",
       "      <td>{'i', 't', 'a', 'r'}</td>\n",
       "      <td>0.004530</td>\n",
       "    </tr>\n",
       "  </tbody>\n",
       "</table>\n",
       "</div>"
      ],
      "text/plain": [
       "    word l0 l1 l2 l3 l4               letters   entropy\n",
       "0  aahed  a  a  h  e  d  {'e', 'a', 'd', 'h'}  0.003732\n",
       "1  aalii  a  a  l  i  i       {'i', 'l', 'a'}  0.003732\n",
       "2  aapas  a  a  p  a  s       {'s', 'a', 'p'}  0.003732\n",
       "3  aargh  a  a  r  g  h  {'g', 'a', 'h', 'r'}  0.004530\n",
       "4  aarti  a  a  r  t  i  {'i', 't', 'a', 'r'}  0.004530"
      ]
     },
     "execution_count": 35,
     "metadata": {},
     "output_type": "execute_result"
    }
   ],
   "source": [
    "tmp_df = df.copy()\n",
    "tmp_df.head()"
   ]
  },
  {
   "cell_type": "code",
   "execution_count": 50,
   "metadata": {},
   "outputs": [
    {
     "data": {
      "text/plain": [
       "14855"
      ]
     },
     "execution_count": 50,
     "metadata": {},
     "output_type": "execute_result"
    }
   ],
   "source": [
    "(tmp_df['l0'] == word[0]).shape[0]"
   ]
  },
  {
   "cell_type": "code",
   "execution_count": 45,
   "metadata": {},
   "outputs": [
    {
     "data": {
      "text/plain": [
       "532"
      ]
     },
     "execution_count": 45,
     "metadata": {},
     "output_type": "execute_result"
    }
   ],
   "source": [
    "pattern = \"ooooo\"\n",
    "tmp_df.loc[\n",
    "            tmp_df['l0'] == word[0] if pattern[0] == 'o' \n",
    "            else tmp_df['letters'].apply(lambda x: word[0] not in x)\n",
    "            if pattern[0] == 'x' \n",
    "            else (tmp_df['letters'].apply(lambda x: word[0] in x)) & (word[0] != tmp_df['l0'])\n",
    "            \n",
    "        ].shape[0]"
   ]
  },
  {
   "cell_type": "code",
   "execution_count": 51,
   "metadata": {},
   "outputs": [],
   "source": [
    "o_conditions = [df[f'l{i}'] == word[i] for i in range(5) if pattern[i] == 'o']\n",
    "x_conditions = [df['letters'].apply(lambda x: word[i] not in x) for i in range(5) if pattern[i] == 'x']\n",
    "other_conditions = [(df['letters'].apply(lambda x: word[0] in x)) & (df[f'l{i}'] != word[i]) for i in range(5) if pattern[i] not in ['o', 'x']]"
   ]
  },
  {
   "cell_type": "code",
   "execution_count": 52,
   "metadata": {},
   "outputs": [
    {
     "ename": "AttributeError",
     "evalue": "'list' object has no attribute 'shape'",
     "output_type": "error",
     "traceback": [
      "\u001b[0;31m---------------------------------------------------------------------------\u001b[0m",
      "\u001b[0;31mAttributeError\u001b[0m                            Traceback (most recent call last)",
      "\u001b[1;32m/home/dinislei/Desktop/Worlde_Solver/test.ipynb Cell 11\u001b[0m line \u001b[0;36m1\n\u001b[0;32m----> <a href='vscode-notebook-cell:/home/dinislei/Desktop/Worlde_Solver/test.ipynb#X13sZmlsZQ%3D%3D?line=0'>1</a>\u001b[0m \u001b[39mprint\u001b[39m(o_conditions\u001b[39m.\u001b[39;49mshape[\u001b[39m0\u001b[39m])\n\u001b[1;32m      <a href='vscode-notebook-cell:/home/dinislei/Desktop/Worlde_Solver/test.ipynb#X13sZmlsZQ%3D%3D?line=1'>2</a>\u001b[0m \u001b[39mprint\u001b[39m(x_conditions\u001b[39m.\u001b[39mshape[\u001b[39m0\u001b[39m])\n\u001b[1;32m      <a href='vscode-notebook-cell:/home/dinislei/Desktop/Worlde_Solver/test.ipynb#X13sZmlsZQ%3D%3D?line=2'>3</a>\u001b[0m \u001b[39mprint\u001b[39m(other_conditions\u001b[39m.\u001b[39mshape[\u001b[39m0\u001b[39m])\n",
      "\u001b[0;31mAttributeError\u001b[0m: 'list' object has no attribute 'shape'"
     ]
    }
   ],
   "source": [
    "query = "
   ]
  }
 ],
 "metadata": {
  "kernelspec": {
   "display_name": "venv",
   "language": "python",
   "name": "python3"
  },
  "language_info": {
   "codemirror_mode": {
    "name": "ipython",
    "version": 3
   },
   "file_extension": ".py",
   "mimetype": "text/x-python",
   "name": "python",
   "nbconvert_exporter": "python",
   "pygments_lexer": "ipython3",
   "version": "3.11.8"
  }
 },
 "nbformat": 4,
 "nbformat_minor": 2
}
